{
 "cells": [
  {
   "cell_type": "code",
   "execution_count": 1,
   "metadata": {},
   "outputs": [
    {
     "name": "stdout",
     "output_type": "stream",
     "text": [
      "README.md               \u001b[31mgen_all.sh\u001b[m\u001b[m              plot.py\n",
      "Untitled.ipynb          \u001b[31mgen_extra.sh\u001b[m\u001b[m            requirements.txt\n",
      "\u001b[34mcoincollector_mazes\u001b[m\u001b[m     half_deterministic.py   requirements_neural.txt\n",
      "comparator.py           hyperparameters.py      test.py\n",
      "demo.ipynb              \u001b[34mlayers\u001b[m\u001b[m                  train.py\n",
      "\u001b[31mdeterministic.py\u001b[m\u001b[m        \u001b[34mmodels\u001b[m\u001b[m                  \u001b[34mutil_pna\u001b[m\u001b[m\n",
      "flow_datasets.py        models_to_test.zip      utils.py\n",
      "\u001b[31mgen.py\u001b[m\u001b[m                  neuralg.yml\n",
      "\u001b[31mgen.sh\u001b[m\u001b[m                  new_train.py\n"
     ]
    }
   ],
   "source": [
    "!ls"
   ]
  },
  {
   "cell_type": "code",
   "execution_count": 7,
   "metadata": {},
   "outputs": [
    {
     "name": "stdout",
     "output_type": "stream",
     "text": [
      "Traceback (most recent call last):\n",
      "  File \"flow_datasets.py\", line 4, in <module>\n",
      "    from torch_geometric.data import Dataset, Data\n",
      "  File \"/Users/yoooooooh/Desktop/Anaconda3/anaconda3/lib/python3.7/site-packages/torch_geometric/__init__.py\", line 2, in <module>\n",
      "    import torch_geometric.nn\n",
      "  File \"/Users/yoooooooh/Desktop/Anaconda3/anaconda3/lib/python3.7/site-packages/torch_geometric/nn/__init__.py\", line 2, in <module>\n",
      "    from .data_parallel import DataParallel\n",
      "  File \"/Users/yoooooooh/Desktop/Anaconda3/anaconda3/lib/python3.7/site-packages/torch_geometric/nn/data_parallel.py\", line 5, in <module>\n",
      "    from torch_geometric.data import Batch\n",
      "  File \"/Users/yoooooooh/Desktop/Anaconda3/anaconda3/lib/python3.7/site-packages/torch_geometric/data/__init__.py\", line 6, in <module>\n",
      "    from .sampler import NeighborSampler\n",
      "  File \"/Users/yoooooooh/Desktop/Anaconda3/anaconda3/lib/python3.7/site-packages/torch_geometric/data/sampler.py\", line 5, in <module>\n",
      "    from torch_cluster import neighbor_sampler\n",
      "ModuleNotFoundError: No module named 'torch_cluster'\n"
     ]
    }
   ],
   "source": [
    "!python flow_datasets.py"
   ]
  },
  {
   "cell_type": "code",
   "execution_count": 9,
   "metadata": {},
   "outputs": [
    {
     "name": "stdout",
     "output_type": "stream",
     "text": [
      "Collecting package metadata (current_repodata.json): done\n",
      "Solving environment: failed with initial frozen solve. Retrying with flexible solve.\n",
      "Collecting package metadata (repodata.json): done\n",
      "Solving environment: failed with initial frozen solve. Retrying with flexible solve.\n",
      "\n",
      "PackagesNotFoundError: The following packages are not available from current channels:\n",
      "\n",
      "  - torch_cluster\n",
      "\n",
      "Current channels:\n",
      "\n",
      "  - https://repo.anaconda.com/pkgs/main/osx-64\n",
      "  - https://repo.anaconda.com/pkgs/main/noarch\n",
      "  - https://repo.anaconda.com/pkgs/r/osx-64\n",
      "  - https://repo.anaconda.com/pkgs/r/noarch\n",
      "\n",
      "To search for alternate channels that may provide the conda package you're\n",
      "looking for, navigate to\n",
      "\n",
      "    https://anaconda.org\n",
      "\n",
      "and use the search bar at the top of the page.\n",
      "\n",
      "\n"
     ]
    }
   ],
   "source": [
    "!conda install torch_cluster"
   ]
  },
  {
   "cell_type": "code",
   "execution_count": null,
   "metadata": {},
   "outputs": [],
   "source": []
  }
 ],
 "metadata": {
  "kernelspec": {
   "display_name": "Python 3",
   "language": "python",
   "name": "python3"
  },
  "language_info": {
   "codemirror_mode": {
    "name": "ipython",
    "version": 3
   },
   "file_extension": ".py",
   "mimetype": "text/x-python",
   "name": "python",
   "nbconvert_exporter": "python",
   "pygments_lexer": "ipython3",
   "version": "3.7.3"
  }
 },
 "nbformat": 4,
 "nbformat_minor": 4
}
